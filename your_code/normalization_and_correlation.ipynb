{
  "nbformat": 4,
  "nbformat_minor": 0,
  "metadata": {
    "colab": {
      "name": "normalization_and_correlation.ipynb",
      "provenance": [],
      "collapsed_sections": [
        "JA-O3CigNzVE"
      ]
    },
    "kernelspec": {
      "display_name": "Python 3",
      "language": "python",
      "name": "python3"
    },
    "language_info": {
      "codemirror_mode": {
        "name": "ipython",
        "version": 3
      },
      "file_extension": ".py",
      "mimetype": "text/x-python",
      "name": "python",
      "nbconvert_exporter": "python",
      "pygments_lexer": "ipython3",
      "version": "3.7.9"
    }
  },
  "cells": [
    {
      "cell_type": "code",
      "metadata": {
        "id": "7DlwntB_17VO"
      },
      "source": [
        "import numpy as np\n",
        "import matplotlib.pyplot as plt\n",
        "import pandas as pd\n",
        "import seaborn as sns"
      ],
      "execution_count": null,
      "outputs": []
    },
    {
      "cell_type": "code",
      "metadata": {
        "id": "adzZ9QqwckwK",
        "colab": {
          "base_uri": "https://localhost:8080/",
          "height": 204
        },
        "outputId": "7cd237ea-9a48-4d78-d072-fb6dc7b9e65f"
      },
      "source": [
        "data = pd.DataFrame([{'Age': 31,'Height': 1.72,'Salary': 31000,'Weight': 74,'Years_school': 16},\n",
        "              {'Age': 30,'Height': 1.74,'Salary': 28000,'Weight': 76,'Years_school': 16},\n",
        "              {'Age': 54, 'Height': 2.1, 'Salary': 33000, 'Weight': 98, 'Years_school': 12},\n",
        "              {'Age': 56, 'Height': 1.7, 'Salary': 28000, 'Weight': 61, 'Years_school': 12},\n",
        "              {'Age': 56,'Height': 1.65,'Salary': 39000,'Weight': 59,'Years_school': 15},\n",
        "              {'Age': 32,'Height': 1.87,'Salary': 39000,'Weight': 85,'Years_school': 18},\n",
        "              {'Age': 23,'Height': 1.95,'Salary': 37000,'Weight': 88,'Years_school': 18},\n",
        "              {'Age': 58,'Height': 2.04,'Salary': 36000,'Weight': 96,'Years_school': 12},\n",
        "              {'Age': 39,'Height': 1.88,'Salary': 35000,'Weight': 76,'Years_school': 16},\n",
        "              {'Age': 56, 'Height': 1.73, 'Salary': 17000, 'Weight': 63, 'Years_school': 9},\n",
        "              {'Age': 39,'Height': 1.61,'Salary': 36000,'Weight': 55,'Years_school': 18},\n",
        "              {'Age': 28, 'Height': 1.7, 'Salary': 40000, 'Weight': 68, 'Years_school': 21},\n",
        "              {'Age': 56, 'Height': 1.64, 'Salary': 19000, 'Weight': 54, 'Years_school': 9},\n",
        "              {'Age': 49,'Height': 1.67,'Salary': 34000,'Weight': 65,'Years_school': 15},\n",
        "              {'Age': 32,'Height': 1.62,'Salary': 26000,'Weight': 64,'Years_school': 12},\n",
        "              {'Age': 28,'Height': 1.92,'Salary': 31000,'Weight': 80,'Years_school': 16},\n",
        "              {'Age': 50,'Height': 2.07,'Salary': 33000,'Weight': 84,'Years_school': 12},\n",
        "              {'Age': 29,'Height': 1.96,'Salary': 33000,'Weight': 77,'Years_school': 16},\n",
        "              {'Age': 29,'Height': 1.64,'Salary': 28000,'Weight': 56,'Years_school': 12}])\n",
        "data.head()"
      ],
      "execution_count": null,
      "outputs": [
        {
          "output_type": "execute_result",
          "data": {
            "text/html": [
              "<div>\n",
              "<style scoped>\n",
              "    .dataframe tbody tr th:only-of-type {\n",
              "        vertical-align: middle;\n",
              "    }\n",
              "\n",
              "    .dataframe tbody tr th {\n",
              "        vertical-align: top;\n",
              "    }\n",
              "\n",
              "    .dataframe thead th {\n",
              "        text-align: right;\n",
              "    }\n",
              "</style>\n",
              "<table border=\"1\" class=\"dataframe\">\n",
              "  <thead>\n",
              "    <tr style=\"text-align: right;\">\n",
              "      <th></th>\n",
              "      <th>Age</th>\n",
              "      <th>Height</th>\n",
              "      <th>Salary</th>\n",
              "      <th>Weight</th>\n",
              "      <th>Years_school</th>\n",
              "    </tr>\n",
              "  </thead>\n",
              "  <tbody>\n",
              "    <tr>\n",
              "      <th>0</th>\n",
              "      <td>31</td>\n",
              "      <td>1.72</td>\n",
              "      <td>31000</td>\n",
              "      <td>74</td>\n",
              "      <td>16</td>\n",
              "    </tr>\n",
              "    <tr>\n",
              "      <th>1</th>\n",
              "      <td>30</td>\n",
              "      <td>1.74</td>\n",
              "      <td>28000</td>\n",
              "      <td>76</td>\n",
              "      <td>16</td>\n",
              "    </tr>\n",
              "    <tr>\n",
              "      <th>2</th>\n",
              "      <td>54</td>\n",
              "      <td>2.10</td>\n",
              "      <td>33000</td>\n",
              "      <td>98</td>\n",
              "      <td>12</td>\n",
              "    </tr>\n",
              "    <tr>\n",
              "      <th>3</th>\n",
              "      <td>56</td>\n",
              "      <td>1.70</td>\n",
              "      <td>28000</td>\n",
              "      <td>61</td>\n",
              "      <td>12</td>\n",
              "    </tr>\n",
              "    <tr>\n",
              "      <th>4</th>\n",
              "      <td>56</td>\n",
              "      <td>1.65</td>\n",
              "      <td>39000</td>\n",
              "      <td>59</td>\n",
              "      <td>15</td>\n",
              "    </tr>\n",
              "  </tbody>\n",
              "</table>\n",
              "</div>"
            ],
            "text/plain": [
              "   Age  Height  Salary  Weight  Years_school\n",
              "0   31    1.72   31000      74            16\n",
              "1   30    1.74   28000      76            16\n",
              "2   54    2.10   33000      98            12\n",
              "3   56    1.70   28000      61            12\n",
              "4   56    1.65   39000      59            15"
            ]
          },
          "metadata": {},
          "execution_count": 2
        }
      ]
    },
    {
      "cell_type": "markdown",
      "metadata": {
        "id": "WNveUEXiq_h7"
      },
      "source": [
        "# Skewness"
      ]
    },
    {
      "cell_type": "code",
      "metadata": {
        "colab": {
          "base_uri": "https://localhost:8080/",
          "height": 742
        },
        "id": "FTVKK2jzXNqt",
        "outputId": "c393d8da-4362-448a-fcb6-8050574da1b2"
      },
      "source": [
        "display(data.skew())\n",
        "\n",
        "sns.distplot(data['Weight']) # positive skwed - value is bigger that zero\n",
        "plt.show()\n",
        "sns.distplot(data['Salary']) # positive skwed - value is smaller that zero\n",
        "plt.show()\n",
        "\n"
      ],
      "execution_count": null,
      "outputs": [
        {
          "output_type": "display_data",
          "data": {
            "text/plain": [
              "Age             0.192668\n",
              "Height          0.559545\n",
              "Salary         -0.977210\n",
              "Weight          0.359448\n",
              "Years_school    0.016048\n",
              "dtype: float64"
            ]
          },
          "metadata": {
            "tags": []
          }
        },
        {
          "output_type": "stream",
          "text": [
            "/usr/local/lib/python3.7/dist-packages/seaborn/distributions.py:2557: FutureWarning: `distplot` is a deprecated function and will be removed in a future version. Please adapt your code to use either `displot` (a figure-level function with similar flexibility) or `histplot` (an axes-level function for histograms).\n",
            "  warnings.warn(msg, FutureWarning)\n"
          ],
          "name": "stderr"
        },
        {
          "output_type": "display_data",
          "data": {
            "image/png": "[encoded data removed]",
            "text/plain": [
              "<Figure size 432x288 with 1 Axes>"
            ]
          },
          "metadata": {
            "tags": [],
            "needs_background": "light"
          }
        },
        {
          "output_type": "stream",
          "text": [
            "/usr/local/lib/python3.7/dist-packages/seaborn/distributions.py:2557: FutureWarning: `distplot` is a deprecated function and will be removed in a future version. Please adapt your code to use either `displot` (a figure-level function with similar flexibility) or `histplot` (an axes-level function for histograms).\n",
            "  warnings.warn(msg, FutureWarning)\n"
          ],
          "name": "stderr"
        },
        {
          "output_type": "display_data",
          "data": {
            "image/png": "[encoded data removed]",
            "text/plain": [
              "<Figure size 432x288 with 1 Axes>"
            ]
          },
          "metadata": {
            "tags": [],
            "needs_background": "light"
          }
        }
      ]
    },
    {
      "cell_type": "markdown",
      "metadata": {
        "id": "Xgre_zu_NzU-"
      },
      "source": [
        "# Normalization and Standardization"
      ]
    },
    {
      "cell_type": "markdown",
      "metadata": {
        "id": "15nf2wg-qoSO"
      },
      "source": [
        "## Normalization"
      ]
    },
    {
      "cell_type": "code",
      "metadata": {
        "id": "qsQ6Y9KzdZny",
        "colab": {
          "base_uri": "https://localhost:8080/",
          "height": 204
        },
        "outputId": "fb5e9344-751d-45b2-af29-920136241db7"
      },
      "source": [
        "data.head()\n",
        "\n",
        "# between line 1 and 2, who is \"more similar\" to the individual in row 0?\n",
        "#1"
      ],
      "execution_count": null,
      "outputs": [
        {
          "output_type": "execute_result",
          "data": {
            "text/html": [
              "<div>\n",
              "<style scoped>\n",
              "    .dataframe tbody tr th:only-of-type {\n",
              "        vertical-align: middle;\n",
              "    }\n",
              "\n",
              "    .dataframe tbody tr th {\n",
              "        vertical-align: top;\n",
              "    }\n",
              "\n",
              "    .dataframe thead th {\n",
              "        text-align: right;\n",
              "    }\n",
              "</style>\n",
              "<table border=\"1\" class=\"dataframe\">\n",
              "  <thead>\n",
              "    <tr style=\"text-align: right;\">\n",
              "      <th></th>\n",
              "      <th>Age</th>\n",
              "      <th>Height</th>\n",
              "      <th>Salary</th>\n",
              "      <th>Weight</th>\n",
              "      <th>Years_school</th>\n",
              "    </tr>\n",
              "  </thead>\n",
              "  <tbody>\n",
              "    <tr>\n",
              "      <th>0</th>\n",
              "      <td>31</td>\n",
              "      <td>1.72</td>\n",
              "      <td>31000</td>\n",
              "      <td>74</td>\n",
              "      <td>16</td>\n",
              "    </tr>\n",
              "    <tr>\n",
              "      <th>1</th>\n",
              "      <td>30</td>\n",
              "      <td>1.74</td>\n",
              "      <td>28000</td>\n",
              "      <td>76</td>\n",
              "      <td>16</td>\n",
              "    </tr>\n",
              "    <tr>\n",
              "      <th>2</th>\n",
              "      <td>54</td>\n",
              "      <td>2.10</td>\n",
              "      <td>33000</td>\n",
              "      <td>98</td>\n",
              "      <td>12</td>\n",
              "    </tr>\n",
              "    <tr>\n",
              "      <th>3</th>\n",
              "      <td>56</td>\n",
              "      <td>1.70</td>\n",
              "      <td>28000</td>\n",
              "      <td>61</td>\n",
              "      <td>12</td>\n",
              "    </tr>\n",
              "    <tr>\n",
              "      <th>4</th>\n",
              "      <td>56</td>\n",
              "      <td>1.65</td>\n",
              "      <td>39000</td>\n",
              "      <td>59</td>\n",
              "      <td>15</td>\n",
              "    </tr>\n",
              "  </tbody>\n",
              "</table>\n",
              "</div>"
            ],
            "text/plain": [
              "   Age  Height  Salary  Weight  Years_school\n",
              "0   31    1.72   31000      74            16\n",
              "1   30    1.74   28000      76            16\n",
              "2   54    2.10   33000      98            12\n",
              "3   56    1.70   28000      61            12\n",
              "4   56    1.65   39000      59            15"
            ]
          },
          "metadata": {
            "tags": []
          },
          "execution_count": 34
        }
      ]
    },
    {
      "cell_type": "code",
      "metadata": {
        "id": "2Oanw_8zdw6T"
      },
      "source": [
        "# We can calculate similarity based on distance\n",
        "# let's define the \"distance\" between individuals using the euclidean distance\n",
        "def euclidean_d(row1,row2):\n",
        "  distance_squared = (row1['Age']-row2['Age'])**2 + (row1['Height']-row2['Height'])**2 + (row1['Salary']-row2['Salary'])**2 + (row1['Weight']-row2['Weight'])**2 + (row1['Years_school']-row2['Years_school'])**2 \n",
        "  return np.sqrt(distance_squared)"
      ],
      "execution_count": null,
      "outputs": []
    },
    {
      "cell_type": "code",
      "metadata": {
        "id": "Cskgg5JYeaKr",
        "colab": {
          "base_uri": "https://localhost:8080/"
        },
        "outputId": "66c585a8-11ab-4a18-979b-1c1ce320be11"
      },
      "source": [
        "#and compute d(ind0,ind1) \n",
        "print(euclidean_d(data.iloc[0],data.iloc[1]))\n",
        "#and d(ind0,ind2)\n",
        "print(euclidean_d(data.iloc[0],data.iloc[2]))\n",
        "#so individual 0 is closer to individual 2, right?\n",
        "#what happened? "
      ],
      "execution_count": null,
      "outputs": [
        {
          "output_type": "stream",
          "text": [
            "3000.000833399884\n",
            "2000.2802664626774\n"
          ],
          "name": "stdout"
        }
      ]
    },
    {
      "cell_type": "code",
      "metadata": {
        "id": "eBKRl9SHeala"
      },
      "source": [
        "#we will put each column in the same referential [0,1]:"
      ],
      "execution_count": null,
      "outputs": []
    },
    {
      "cell_type": "code",
      "metadata": {
        "id": "7JnW0rk1ji85",
        "colab": {
          "base_uri": "https://localhost:8080/",
          "height": 204
        },
        "outputId": "be974968-9355-46e5-e4a6-e8bf176c5a15"
      },
      "source": [
        "yr_shcl_max = data['Years_school'].max()\n",
        "yr_shcl_min = data['Years_school'].min()\n",
        "data['Years_school_n'] = (data['Years_school']-yr_shcl_min)/(yr_shcl_max-yr_shcl_min)\n",
        "data.head()"
      ],
      "execution_count": null,
      "outputs": [
        {
          "output_type": "execute_result",
          "data": {
            "text/html": [
              "<div>\n",
              "<style scoped>\n",
              "    .dataframe tbody tr th:only-of-type {\n",
              "        vertical-align: middle;\n",
              "    }\n",
              "\n",
              "    .dataframe tbody tr th {\n",
              "        vertical-align: top;\n",
              "    }\n",
              "\n",
              "    .dataframe thead th {\n",
              "        text-align: right;\n",
              "    }\n",
              "</style>\n",
              "<table border=\"1\" class=\"dataframe\">\n",
              "  <thead>\n",
              "    <tr style=\"text-align: right;\">\n",
              "      <th></th>\n",
              "      <th>Age</th>\n",
              "      <th>Height</th>\n",
              "      <th>Salary</th>\n",
              "      <th>Weight</th>\n",
              "      <th>Years_school</th>\n",
              "      <th>Years_school_n</th>\n",
              "    </tr>\n",
              "  </thead>\n",
              "  <tbody>\n",
              "    <tr>\n",
              "      <th>0</th>\n",
              "      <td>31</td>\n",
              "      <td>1.72</td>\n",
              "      <td>31000</td>\n",
              "      <td>74</td>\n",
              "      <td>16</td>\n",
              "      <td>0.583333</td>\n",
              "    </tr>\n",
              "    <tr>\n",
              "      <th>1</th>\n",
              "      <td>30</td>\n",
              "      <td>1.74</td>\n",
              "      <td>28000</td>\n",
              "      <td>76</td>\n",
              "      <td>16</td>\n",
              "      <td>0.583333</td>\n",
              "    </tr>\n",
              "    <tr>\n",
              "      <th>2</th>\n",
              "      <td>54</td>\n",
              "      <td>2.10</td>\n",
              "      <td>33000</td>\n",
              "      <td>98</td>\n",
              "      <td>12</td>\n",
              "      <td>0.250000</td>\n",
              "    </tr>\n",
              "    <tr>\n",
              "      <th>3</th>\n",
              "      <td>56</td>\n",
              "      <td>1.70</td>\n",
              "      <td>28000</td>\n",
              "      <td>61</td>\n",
              "      <td>12</td>\n",
              "      <td>0.250000</td>\n",
              "    </tr>\n",
              "    <tr>\n",
              "      <th>4</th>\n",
              "      <td>56</td>\n",
              "      <td>1.65</td>\n",
              "      <td>39000</td>\n",
              "      <td>59</td>\n",
              "      <td>15</td>\n",
              "      <td>0.500000</td>\n",
              "    </tr>\n",
              "  </tbody>\n",
              "</table>\n",
              "</div>"
            ],
            "text/plain": [
              "   Age  Height  Salary  Weight  Years_school  Years_school_n\n",
              "0   31    1.72   31000      74            16        0.583333\n",
              "1   30    1.74   28000      76            16        0.583333\n",
              "2   54    2.10   33000      98            12        0.250000\n",
              "3   56    1.70   28000      61            12        0.250000\n",
              "4   56    1.65   39000      59            15        0.500000"
            ]
          },
          "metadata": {
            "tags": []
          },
          "execution_count": 17
        }
      ]
    },
    {
      "cell_type": "code",
      "metadata": {
        "id": "HMSfA2kPmvWS",
        "colab": {
          "base_uri": "https://localhost:8080/",
          "height": 204
        },
        "outputId": "da110a1b-67da-40cf-b056-f8726506b75f"
      },
      "source": [
        "# we will do the same for all the columns \n",
        "\n",
        "data = data.drop(columns=['Years_school_n'])\n",
        "for col in data.columns:\n",
        "  col_max = data[col].max()\n",
        "  col_min = data[col].min()\n",
        "  data[col+\"_n\"] = (data[col]-col_min)/(col_max-col_min)\n",
        "data.head()"
      ],
      "execution_count": null,
      "outputs": [
        {
          "output_type": "execute_result",
          "data": {
            "text/html": [
              "<div>\n",
              "<style scoped>\n",
              "    .dataframe tbody tr th:only-of-type {\n",
              "        vertical-align: middle;\n",
              "    }\n",
              "\n",
              "    .dataframe tbody tr th {\n",
              "        vertical-align: top;\n",
              "    }\n",
              "\n",
              "    .dataframe thead th {\n",
              "        text-align: right;\n",
              "    }\n",
              "</style>\n",
              "<table border=\"1\" class=\"dataframe\">\n",
              "  <thead>\n",
              "    <tr style=\"text-align: right;\">\n",
              "      <th></th>\n",
              "      <th>Age</th>\n",
              "      <th>Height</th>\n",
              "      <th>Salary</th>\n",
              "      <th>Weight</th>\n",
              "      <th>Years_school</th>\n",
              "      <th>Age_n</th>\n",
              "      <th>Height_n</th>\n",
              "      <th>Salary_n</th>\n",
              "      <th>Weight_n</th>\n",
              "      <th>Years_school_n</th>\n",
              "    </tr>\n",
              "  </thead>\n",
              "  <tbody>\n",
              "    <tr>\n",
              "      <th>0</th>\n",
              "      <td>31</td>\n",
              "      <td>1.72</td>\n",
              "      <td>31000</td>\n",
              "      <td>74</td>\n",
              "      <td>16</td>\n",
              "      <td>0.228571</td>\n",
              "      <td>0.224490</td>\n",
              "      <td>0.608696</td>\n",
              "      <td>0.454545</td>\n",
              "      <td>0.583333</td>\n",
              "    </tr>\n",
              "    <tr>\n",
              "      <th>1</th>\n",
              "      <td>30</td>\n",
              "      <td>1.74</td>\n",
              "      <td>28000</td>\n",
              "      <td>76</td>\n",
              "      <td>16</td>\n",
              "      <td>0.200000</td>\n",
              "      <td>0.265306</td>\n",
              "      <td>0.478261</td>\n",
              "      <td>0.500000</td>\n",
              "      <td>0.583333</td>\n",
              "    </tr>\n",
              "    <tr>\n",
              "      <th>2</th>\n",
              "      <td>54</td>\n",
              "      <td>2.10</td>\n",
              "      <td>33000</td>\n",
              "      <td>98</td>\n",
              "      <td>12</td>\n",
              "      <td>0.885714</td>\n",
              "      <td>1.000000</td>\n",
              "      <td>0.695652</td>\n",
              "      <td>1.000000</td>\n",
              "      <td>0.250000</td>\n",
              "    </tr>\n",
              "    <tr>\n",
              "      <th>3</th>\n",
              "      <td>56</td>\n",
              "      <td>1.70</td>\n",
              "      <td>28000</td>\n",
              "      <td>61</td>\n",
              "      <td>12</td>\n",
              "      <td>0.942857</td>\n",
              "      <td>0.183673</td>\n",
              "      <td>0.478261</td>\n",
              "      <td>0.159091</td>\n",
              "      <td>0.250000</td>\n",
              "    </tr>\n",
              "    <tr>\n",
              "      <th>4</th>\n",
              "      <td>56</td>\n",
              "      <td>1.65</td>\n",
              "      <td>39000</td>\n",
              "      <td>59</td>\n",
              "      <td>15</td>\n",
              "      <td>0.942857</td>\n",
              "      <td>0.081633</td>\n",
              "      <td>0.956522</td>\n",
              "      <td>0.113636</td>\n",
              "      <td>0.500000</td>\n",
              "    </tr>\n",
              "  </tbody>\n",
              "</table>\n",
              "</div>"
            ],
            "text/plain": [
              "   Age  Height  Salary  Weight  ...  Height_n  Salary_n  Weight_n  Years_school_n\n",
              "0   31    1.72   31000      74  ...  0.224490  0.608696  0.454545        0.583333\n",
              "1   30    1.74   28000      76  ...  0.265306  0.478261  0.500000        0.583333\n",
              "2   54    2.10   33000      98  ...  1.000000  0.695652  1.000000        0.250000\n",
              "3   56    1.70   28000      61  ...  0.183673  0.478261  0.159091        0.250000\n",
              "4   56    1.65   39000      59  ...  0.081633  0.956522  0.113636        0.500000\n",
              "\n",
              "[5 rows x 10 columns]"
            ]
          },
          "metadata": {
            "tags": []
          },
          "execution_count": 18
        }
      ]
    },
    {
      "cell_type": "code",
      "metadata": {
        "id": "U-IR3qsLqD5M"
      },
      "source": [
        "#now we again do our distance comparison, but in the normalized columns\n",
        "def euclidean_dn(row1,row2):\n",
        "  distance_squared = (row1['Age_n']-row2['Age_n'])**2 + (row1['Height_n']-row2['Height_n'])**2 + (row1['Salary_n']-row2['Salary_n'])**2 + (row1['Weight_n']-row2['Weight_n'])**2 + (row1['Years_school_n']-row2['Years_school_n'])**2 \n",
        "  return np.sqrt(distance_squared)"
      ],
      "execution_count": null,
      "outputs": []
    },
    {
      "cell_type": "code",
      "metadata": {
        "id": "4zj-sBewqD8C",
        "colab": {
          "base_uri": "https://localhost:8080/"
        },
        "outputId": "60c82a98-7e4b-4ccf-a18e-8dc203a61d5f"
      },
      "source": [
        "#and compute dn(ind0,ind1) \n",
        "print(euclidean_dn(data.iloc[0],data.iloc[1]))\n",
        "#and dn(ind0,ind2)\n",
        "print(euclidean_dn(data.iloc[0],data.iloc[2]))\n",
        "#so individual 0 is much closer to individual 1 than to individual 2"
      ],
      "execution_count": null,
      "outputs": [
        {
          "output_type": "stream",
          "text": [
            "0.14683884792085114\n",
            "1.2039294083415844\n"
          ],
          "name": "stdout"
        }
      ]
    },
    {
      "cell_type": "code",
      "metadata": {
        "id": "yF-RMnOJjE-a",
        "colab": {
          "base_uri": "https://localhost:8080/"
        },
        "outputId": "7af44e5d-bfb5-4e98-bde5-96e3c3b1e200"
      },
      "source": [
        "#there are pre made functions for this\n",
        "#sklearn, short for scikit-learn is a very popular machine learning library. We will use it quite a bit\n",
        "import sklearn\n",
        "from sklearn.preprocessing import MinMaxScaler\n",
        "\n",
        "normalizer = MinMaxScaler()\n",
        "normalizer.fit_transform(data[['Age','Height','Salary','Weight','Years_school']])\n"
      ],
      "execution_count": null,
      "outputs": [
        {
          "output_type": "execute_result",
          "data": {
            "text/plain": [
              "array([[0.22857143, 0.2244898 , 0.60869565, 0.45454545, 0.58333333],\n",
              "       [0.2       , 0.26530612, 0.47826087, 0.5       , 0.58333333],\n",
              "       [0.88571429, 1.        , 0.69565217, 1.        , 0.25      ],\n",
              "       [0.94285714, 0.18367347, 0.47826087, 0.15909091, 0.25      ],\n",
              "       [0.94285714, 0.08163265, 0.95652174, 0.11363636, 0.5       ],\n",
              "       [0.25714286, 0.53061224, 0.95652174, 0.70454545, 0.75      ],\n",
              "       [0.        , 0.69387755, 0.86956522, 0.77272727, 0.75      ],\n",
              "       [1.        , 0.87755102, 0.82608696, 0.95454545, 0.25      ],\n",
              "       [0.45714286, 0.55102041, 0.7826087 , 0.5       , 0.58333333],\n",
              "       [0.94285714, 0.24489796, 0.        , 0.20454545, 0.        ],\n",
              "       [0.45714286, 0.        , 0.82608696, 0.02272727, 0.75      ],\n",
              "       [0.14285714, 0.18367347, 1.        , 0.31818182, 1.        ],\n",
              "       [0.94285714, 0.06122449, 0.08695652, 0.        , 0.        ],\n",
              "       [0.74285714, 0.12244898, 0.73913043, 0.25      , 0.5       ],\n",
              "       [0.25714286, 0.02040816, 0.39130435, 0.22727273, 0.25      ],\n",
              "       [0.14285714, 0.63265306, 0.60869565, 0.59090909, 0.58333333],\n",
              "       [0.77142857, 0.93877551, 0.69565217, 0.68181818, 0.25      ],\n",
              "       [0.17142857, 0.71428571, 0.69565217, 0.52272727, 0.58333333],\n",
              "       [0.17142857, 0.06122449, 0.47826087, 0.04545455, 0.25      ]])"
            ]
          },
          "metadata": {
            "tags": []
          },
          "execution_count": 21
        }
      ]
    },
    {
      "cell_type": "markdown",
      "metadata": {
        "id": "98VUQtzMqkq3"
      },
      "source": [
        "## Standardization"
      ]
    },
    {
      "cell_type": "code",
      "metadata": {
        "id": "Smm6RLRlHMKE",
        "colab": {
          "base_uri": "https://localhost:8080/",
          "height": 204
        },
        "outputId": "cd89251e-4fe2-4d58-e4a5-b696dc27a1fa"
      },
      "source": [
        "data = pd.DataFrame({'Grade': {0: 13,1: 13,2: 8,3: 14,4: 20,5: 20,6: 13,7: 17,8: 8,9: 1,10: 9,11: 16,12: 15,13: 19,14: 0,15: 16,16: 14,17: 19,18: 1},\n",
        "              'Minutes_spent': {0: 233,1: 228,2: 231,3: 229,4: 233,5: 233,6: 225,7: 228,8: 234,9: 12,10: 231,11: 235,12: 239,13: 234,14: 6,15: 233,16: 227,17: 236,18: 18}})\n",
        "data.head()"
      ],
      "execution_count": null,
      "outputs": [
        {
          "output_type": "execute_result",
          "data": {
            "text/html": [
              "<div>\n",
              "<style scoped>\n",
              "    .dataframe tbody tr th:only-of-type {\n",
              "        vertical-align: middle;\n",
              "    }\n",
              "\n",
              "    .dataframe tbody tr th {\n",
              "        vertical-align: top;\n",
              "    }\n",
              "\n",
              "    .dataframe thead th {\n",
              "        text-align: right;\n",
              "    }\n",
              "</style>\n",
              "<table border=\"1\" class=\"dataframe\">\n",
              "  <thead>\n",
              "    <tr style=\"text-align: right;\">\n",
              "      <th></th>\n",
              "      <th>Grade</th>\n",
              "      <th>Minutes_spent</th>\n",
              "    </tr>\n",
              "  </thead>\n",
              "  <tbody>\n",
              "    <tr>\n",
              "      <th>0</th>\n",
              "      <td>13</td>\n",
              "      <td>233</td>\n",
              "    </tr>\n",
              "    <tr>\n",
              "      <th>1</th>\n",
              "      <td>13</td>\n",
              "      <td>228</td>\n",
              "    </tr>\n",
              "    <tr>\n",
              "      <th>2</th>\n",
              "      <td>8</td>\n",
              "      <td>231</td>\n",
              "    </tr>\n",
              "    <tr>\n",
              "      <th>3</th>\n",
              "      <td>14</td>\n",
              "      <td>229</td>\n",
              "    </tr>\n",
              "    <tr>\n",
              "      <th>4</th>\n",
              "      <td>20</td>\n",
              "      <td>233</td>\n",
              "    </tr>\n",
              "  </tbody>\n",
              "</table>\n",
              "</div>"
            ],
            "text/plain": [
              "   Grade  Minutes_spent\n",
              "0     13            233\n",
              "1     13            228\n",
              "2      8            231\n",
              "3     14            229\n",
              "4     20            233"
            ]
          },
          "metadata": {
            "tags": []
          },
          "execution_count": 3
        }
      ]
    },
    {
      "cell_type": "code",
      "metadata": {
        "id": "EhgNVw9yId-P",
        "colab": {
          "base_uri": "https://localhost:8080/",
          "height": 204
        },
        "outputId": "9b1f1bf2-d835-444e-e8d0-93d398f66c78"
      },
      "source": [
        "# let's normalize\n",
        "columns = data.columns\n",
        "for col in columns:\n",
        "  col_max = data[col].max()\n",
        "  col_min = data[col].min()\n",
        "  data[col+\"_n\"] = (data[col]-col_min)/(col_max-col_min)\n",
        "data.head()"
      ],
      "execution_count": null,
      "outputs": [
        {
          "output_type": "execute_result",
          "data": {
            "text/html": [
              "<div>\n",
              "<style scoped>\n",
              "    .dataframe tbody tr th:only-of-type {\n",
              "        vertical-align: middle;\n",
              "    }\n",
              "\n",
              "    .dataframe tbody tr th {\n",
              "        vertical-align: top;\n",
              "    }\n",
              "\n",
              "    .dataframe thead th {\n",
              "        text-align: right;\n",
              "    }\n",
              "</style>\n",
              "<table border=\"1\" class=\"dataframe\">\n",
              "  <thead>\n",
              "    <tr style=\"text-align: right;\">\n",
              "      <th></th>\n",
              "      <th>Grade</th>\n",
              "      <th>Minutes_spent</th>\n",
              "      <th>Grade_n</th>\n",
              "      <th>Minutes_spent_n</th>\n",
              "    </tr>\n",
              "  </thead>\n",
              "  <tbody>\n",
              "    <tr>\n",
              "      <th>0</th>\n",
              "      <td>13</td>\n",
              "      <td>233</td>\n",
              "      <td>0.65</td>\n",
              "      <td>0.974249</td>\n",
              "    </tr>\n",
              "    <tr>\n",
              "      <th>1</th>\n",
              "      <td>13</td>\n",
              "      <td>228</td>\n",
              "      <td>0.65</td>\n",
              "      <td>0.952790</td>\n",
              "    </tr>\n",
              "    <tr>\n",
              "      <th>2</th>\n",
              "      <td>8</td>\n",
              "      <td>231</td>\n",
              "      <td>0.40</td>\n",
              "      <td>0.965665</td>\n",
              "    </tr>\n",
              "    <tr>\n",
              "      <th>3</th>\n",
              "      <td>14</td>\n",
              "      <td>229</td>\n",
              "      <td>0.70</td>\n",
              "      <td>0.957082</td>\n",
              "    </tr>\n",
              "    <tr>\n",
              "      <th>4</th>\n",
              "      <td>20</td>\n",
              "      <td>233</td>\n",
              "      <td>1.00</td>\n",
              "      <td>0.974249</td>\n",
              "    </tr>\n",
              "  </tbody>\n",
              "</table>\n",
              "</div>"
            ],
            "text/plain": [
              "   Grade  Minutes_spent  Grade_n  Minutes_spent_n\n",
              "0     13            233     0.65         0.974249\n",
              "1     13            228     0.65         0.952790\n",
              "2      8            231     0.40         0.965665\n",
              "3     14            229     0.70         0.957082\n",
              "4     20            233     1.00         0.974249"
            ]
          },
          "metadata": {
            "tags": []
          },
          "execution_count": 23
        }
      ]
    },
    {
      "cell_type": "code",
      "metadata": {
        "id": "iukSjOBDIeEC",
        "colab": {
          "base_uri": "https://localhost:8080/"
        },
        "outputId": "d10a9cc2-01ba-47eb-98b9-496795d54724"
      },
      "source": [
        "#wow, it seems like we have a lot of very extreme minutes_spent values!\n",
        "data['Minutes_spent']"
      ],
      "execution_count": null,
      "outputs": [
        {
          "output_type": "execute_result",
          "data": {
            "text/plain": [
              "0     233\n",
              "1     228\n",
              "2     231\n",
              "3     229\n",
              "4     233\n",
              "5     233\n",
              "6     225\n",
              "7     228\n",
              "8     234\n",
              "9      12\n",
              "10    231\n",
              "11    235\n",
              "12    239\n",
              "13    234\n",
              "14      6\n",
              "15    233\n",
              "16    227\n",
              "17    236\n",
              "18     18\n",
              "Name: Minutes_spent, dtype: int64"
            ]
          },
          "metadata": {
            "tags": []
          },
          "execution_count": 11
        }
      ]
    },
    {
      "cell_type": "code",
      "metadata": {
        "id": "8fE_z4QXI76L"
      },
      "source": [
        "#oh, those values are not extreme at all, in fact they are pretty \"central\"\n",
        "#data standardization to the rescue"
      ],
      "execution_count": null,
      "outputs": []
    },
    {
      "cell_type": "code",
      "metadata": {
        "id": "_6w1EkSKJKFF",
        "colab": {
          "base_uri": "https://localhost:8080/",
          "height": 631
        },
        "outputId": "ce6dc32b-85d5-487e-9039-3480c0045917"
      },
      "source": [
        "# let's stndardize\n",
        "for col in columns:\n",
        "  col_mean = data[col].mean()\n",
        "  col_std = data[col].std()\n",
        "  data[col+\"_s\"] = (data[col]-col_mean)/(col_std)\n",
        "data"
      ],
      "execution_count": null,
      "outputs": [
        {
          "output_type": "execute_result",
          "data": {
            "text/html": [
              "<div>\n",
              "<style scoped>\n",
              "    .dataframe tbody tr th:only-of-type {\n",
              "        vertical-align: middle;\n",
              "    }\n",
              "\n",
              "    .dataframe tbody tr th {\n",
              "        vertical-align: top;\n",
              "    }\n",
              "\n",
              "    .dataframe thead th {\n",
              "        text-align: right;\n",
              "    }\n",
              "</style>\n",
              "<table border=\"1\" class=\"dataframe\">\n",
              "  <thead>\n",
              "    <tr style=\"text-align: right;\">\n",
              "      <th></th>\n",
              "      <th>Grade</th>\n",
              "      <th>Minutes_spent</th>\n",
              "      <th>Grade_n</th>\n",
              "      <th>Minutes_spent_n</th>\n",
              "      <th>Grade_s</th>\n",
              "      <th>Minutes_spent_s</th>\n",
              "    </tr>\n",
              "  </thead>\n",
              "  <tbody>\n",
              "    <tr>\n",
              "      <th>0</th>\n",
              "      <td>13</td>\n",
              "      <td>233</td>\n",
              "      <td>0.65</td>\n",
              "      <td>0.974249</td>\n",
              "      <td>0.091121</td>\n",
              "      <td>0.435395</td>\n",
              "    </tr>\n",
              "    <tr>\n",
              "      <th>1</th>\n",
              "      <td>13</td>\n",
              "      <td>228</td>\n",
              "      <td>0.65</td>\n",
              "      <td>0.952790</td>\n",
              "      <td>0.091121</td>\n",
              "      <td>0.374746</td>\n",
              "    </tr>\n",
              "    <tr>\n",
              "      <th>2</th>\n",
              "      <td>8</td>\n",
              "      <td>231</td>\n",
              "      <td>0.40</td>\n",
              "      <td>0.965665</td>\n",
              "      <td>-0.695833</td>\n",
              "      <td>0.411135</td>\n",
              "    </tr>\n",
              "    <tr>\n",
              "      <th>3</th>\n",
              "      <td>14</td>\n",
              "      <td>229</td>\n",
              "      <td>0.70</td>\n",
              "      <td>0.957082</td>\n",
              "      <td>0.248512</td>\n",
              "      <td>0.386876</td>\n",
              "    </tr>\n",
              "    <tr>\n",
              "      <th>4</th>\n",
              "      <td>20</td>\n",
              "      <td>233</td>\n",
              "      <td>1.00</td>\n",
              "      <td>0.974249</td>\n",
              "      <td>1.192856</td>\n",
              "      <td>0.435395</td>\n",
              "    </tr>\n",
              "    <tr>\n",
              "      <th>5</th>\n",
              "      <td>20</td>\n",
              "      <td>233</td>\n",
              "      <td>1.00</td>\n",
              "      <td>0.974249</td>\n",
              "      <td>1.192856</td>\n",
              "      <td>0.435395</td>\n",
              "    </tr>\n",
              "    <tr>\n",
              "      <th>6</th>\n",
              "      <td>13</td>\n",
              "      <td>225</td>\n",
              "      <td>0.65</td>\n",
              "      <td>0.939914</td>\n",
              "      <td>0.091121</td>\n",
              "      <td>0.338357</td>\n",
              "    </tr>\n",
              "    <tr>\n",
              "      <th>7</th>\n",
              "      <td>17</td>\n",
              "      <td>228</td>\n",
              "      <td>0.85</td>\n",
              "      <td>0.952790</td>\n",
              "      <td>0.720684</td>\n",
              "      <td>0.374746</td>\n",
              "    </tr>\n",
              "    <tr>\n",
              "      <th>8</th>\n",
              "      <td>8</td>\n",
              "      <td>234</td>\n",
              "      <td>0.40</td>\n",
              "      <td>0.978541</td>\n",
              "      <td>-0.695833</td>\n",
              "      <td>0.447524</td>\n",
              "    </tr>\n",
              "    <tr>\n",
              "      <th>9</th>\n",
              "      <td>1</td>\n",
              "      <td>12</td>\n",
              "      <td>0.05</td>\n",
              "      <td>0.025751</td>\n",
              "      <td>-1.797568</td>\n",
              "      <td>-2.245283</td>\n",
              "    </tr>\n",
              "    <tr>\n",
              "      <th>10</th>\n",
              "      <td>9</td>\n",
              "      <td>231</td>\n",
              "      <td>0.45</td>\n",
              "      <td>0.965665</td>\n",
              "      <td>-0.538442</td>\n",
              "      <td>0.411135</td>\n",
              "    </tr>\n",
              "    <tr>\n",
              "      <th>11</th>\n",
              "      <td>16</td>\n",
              "      <td>235</td>\n",
              "      <td>0.80</td>\n",
              "      <td>0.982833</td>\n",
              "      <td>0.563293</td>\n",
              "      <td>0.459654</td>\n",
              "    </tr>\n",
              "    <tr>\n",
              "      <th>12</th>\n",
              "      <td>15</td>\n",
              "      <td>239</td>\n",
              "      <td>0.75</td>\n",
              "      <td>1.000000</td>\n",
              "      <td>0.405902</td>\n",
              "      <td>0.508173</td>\n",
              "    </tr>\n",
              "    <tr>\n",
              "      <th>13</th>\n",
              "      <td>19</td>\n",
              "      <td>234</td>\n",
              "      <td>0.95</td>\n",
              "      <td>0.978541</td>\n",
              "      <td>1.035465</td>\n",
              "      <td>0.447524</td>\n",
              "    </tr>\n",
              "    <tr>\n",
              "      <th>14</th>\n",
              "      <td>0</td>\n",
              "      <td>6</td>\n",
              "      <td>0.00</td>\n",
              "      <td>0.000000</td>\n",
              "      <td>-1.954958</td>\n",
              "      <td>-2.318062</td>\n",
              "    </tr>\n",
              "    <tr>\n",
              "      <th>15</th>\n",
              "      <td>16</td>\n",
              "      <td>233</td>\n",
              "      <td>0.80</td>\n",
              "      <td>0.974249</td>\n",
              "      <td>0.563293</td>\n",
              "      <td>0.435395</td>\n",
              "    </tr>\n",
              "    <tr>\n",
              "      <th>16</th>\n",
              "      <td>14</td>\n",
              "      <td>227</td>\n",
              "      <td>0.70</td>\n",
              "      <td>0.948498</td>\n",
              "      <td>0.248512</td>\n",
              "      <td>0.362616</td>\n",
              "    </tr>\n",
              "    <tr>\n",
              "      <th>17</th>\n",
              "      <td>19</td>\n",
              "      <td>236</td>\n",
              "      <td>0.95</td>\n",
              "      <td>0.987124</td>\n",
              "      <td>1.035465</td>\n",
              "      <td>0.471784</td>\n",
              "    </tr>\n",
              "    <tr>\n",
              "      <th>18</th>\n",
              "      <td>1</td>\n",
              "      <td>18</td>\n",
              "      <td>0.05</td>\n",
              "      <td>0.051502</td>\n",
              "      <td>-1.797568</td>\n",
              "      <td>-2.172505</td>\n",
              "    </tr>\n",
              "  </tbody>\n",
              "</table>\n",
              "</div>"
            ],
            "text/plain": [
              "    Grade  Minutes_spent  Grade_n  Minutes_spent_n   Grade_s  Minutes_spent_s\n",
              "0      13            233     0.65         0.974249  0.091121         0.435395\n",
              "1      13            228     0.65         0.952790  0.091121         0.374746\n",
              "2       8            231     0.40         0.965665 -0.695833         0.411135\n",
              "3      14            229     0.70         0.957082  0.248512         0.386876\n",
              "4      20            233     1.00         0.974249  1.192856         0.435395\n",
              "5      20            233     1.00         0.974249  1.192856         0.435395\n",
              "6      13            225     0.65         0.939914  0.091121         0.338357\n",
              "7      17            228     0.85         0.952790  0.720684         0.374746\n",
              "8       8            234     0.40         0.978541 -0.695833         0.447524\n",
              "9       1             12     0.05         0.025751 -1.797568        -2.245283\n",
              "10      9            231     0.45         0.965665 -0.538442         0.411135\n",
              "11     16            235     0.80         0.982833  0.563293         0.459654\n",
              "12     15            239     0.75         1.000000  0.405902         0.508173\n",
              "13     19            234     0.95         0.978541  1.035465         0.447524\n",
              "14      0              6     0.00         0.000000 -1.954958        -2.318062\n",
              "15     16            233     0.80         0.974249  0.563293         0.435395\n",
              "16     14            227     0.70         0.948498  0.248512         0.362616\n",
              "17     19            236     0.95         0.987124  1.035465         0.471784\n",
              "18      1             18     0.05         0.051502 -1.797568        -2.172505"
            ]
          },
          "metadata": {
            "tags": []
          },
          "execution_count": 12
        }
      ]
    },
    {
      "cell_type": "code",
      "metadata": {
        "id": "W-dSOMi5IeKk",
        "colab": {
          "base_uri": "https://localhost:8080/"
        },
        "outputId": "4241ec57-4e94-44f0-b109-1bba90fdbc33"
      },
      "source": [
        "#there are pre made functions for this\n",
        "import sklearn\n",
        "from sklearn.preprocessing import StandardScaler\n",
        "\n",
        "StandardScaler().fit_transform(data[['Grade','Minutes_spent']])"
      ],
      "execution_count": null,
      "outputs": [
        {
          "output_type": "execute_result",
          "data": {
            "text/plain": [
              "array([[ 0.09361787,  0.44732556],\n",
              "       [ 0.09361787,  0.38501481],\n",
              "       [-0.71490009,  0.42240126],\n",
              "       [ 0.25532146,  0.39747696],\n",
              "       [ 1.22554301,  0.44732556],\n",
              "       [ 1.22554301,  0.44732556],\n",
              "       [ 0.09361787,  0.34762836],\n",
              "       [ 0.74043224,  0.38501481],\n",
              "       [-0.71490009,  0.4597877 ],\n",
              "       [-1.84682523, -2.30680935],\n",
              "       [-0.5531965 ,  0.42240126],\n",
              "       [ 0.57872864,  0.47224985],\n",
              "       [ 0.41702505,  0.52209845],\n",
              "       [ 1.06383942,  0.4597877 ],\n",
              "       [-2.00852882, -2.38158225],\n",
              "       [ 0.57872864,  0.44732556],\n",
              "       [ 0.25532146,  0.37255266],\n",
              "       [ 1.06383942,  0.484712  ],\n",
              "       [-1.84682523, -2.23203646]])"
            ]
          },
          "metadata": {
            "tags": []
          },
          "execution_count": 147
        }
      ]
    },
    {
      "cell_type": "markdown",
      "metadata": {
        "id": "JA-O3CigNzVE"
      },
      "source": [
        "# Covariance and correlation"
      ]
    },
    {
      "cell_type": "markdown",
      "metadata": {
        "id": "MDBUsRM9gtIl"
      },
      "source": [
        "###Extra\n",
        "We don't care about covariance, like we don't care about variance.\n",
        "We care about correlation the same way we care for standard deviation.\n",
        "\n",
        "- You can check this part, but not crutial for the curriculum. It's an extra for you.\n",
        "- You will see here some other methods that you could use in the future:\n",
        " - np.random.normal()\n",
        " - plt.vlines()\n",
        " - np.cov()\n",
        " - np.corrcoef()\n",
        " - stats.normaltest()"
      ]
    },
    {
      "cell_type": "code",
      "metadata": {
        "id": "Jub2g77A9SiO",
        "colab": {
          "base_uri": "https://localhost:8080/",
          "height": 316
        },
        "outputId": "8d2bd09d-ae0c-425a-b864-9195c1949494"
      },
      "source": [
        "# Covariance and correlation\n",
        "import numpy as np\n",
        "from scipy import stats\n",
        "\n",
        "##location and spread to create my data using np.random.normal\n",
        "## they are not exat the mean and the standard deviation because we are using the random funciton\n",
        "\n",
        "location = 1\n",
        "scale= 2\n",
        "\n",
        "data_1 = np.random.normal(loc = mean, scale = scale, size = 200) # np.random.normal creates a certain number of random numbers that follows a normal distribution with a certain location/ where I center my dist. (loc), and a certain dispertion (scale)\n",
        "data_2 = np.random.normal(loc = mean, scale = scale, size = 200)\n",
        "#display(data_1)\n",
        "\n",
        "##median based on my data\n",
        "median = np.median(data_1)\n",
        "print('The median of my random generated normal distribution is', median)\n",
        "mean = np.mean(data_1)\n",
        "print('The mean of my random generated normal distribution is', mean)\n",
        "\n",
        "##vizualise data_1\n",
        "plt.hist(data_1, bins=12) # here you can see that the data follows aproximatly a normal distribution, if you increase the number of values you will see that it will become a more perfect curve\n",
        "\n",
        "##For the visualization\n",
        "axes = plt.gca() # get min and max value for the y axis depending on your data\n",
        "y_min, y_max = axes.get_ylim() # save it in two variables\n",
        "\n",
        "plt.vlines(x=mean, ymin=y_min, ymax=y_max, colors='r',  label='mean') #plot a line that represents the mean\n",
        "plt.vlines(x=median, ymin=y_min, ymax=y_max, colors='y', label='median') # #plot a line that represents the median\n",
        "plt.legend() # for showing the legend\n",
        "plt.show()\n",
        "\n",
        "#You can see that every time you run this cell the median and the mean are always very similar (almost symetrical and unimodal - what defines a normal distribution)\n",
        "\n",
        "\n",
        "#----------------------- END ----------------------- #\n",
        "#--------------------- DANGER! --------------------- #\n",
        "\n",
        "\n",
        "## NOTE: BELLOW IS SOMETHING WE WILL ONLY SEE IN THE FUTURE WITH THE INFERENTIAL STATISTICS ##\n",
        "##I JUST PUT IT OUT HERE IN ORDER TO PROVE THAT MY DISTRIBUTION ABOVE FOLLOWS A NORMAL DISTRIBUTION ##\n",
        "## AS I WAS BUILDING THE SCRIPT I ENDED UP GOING AN EXTRA MILE AND I COULDN\"T DELETE IT (SORRY) ##\n",
        "## YOU CAN SKIP IT !! ##\n",
        "\n",
        "#--------------------- DANGER! --------------------- #\n",
        "\n",
        "#testing for normality \n",
        "\n",
        "#normaltest \n",
        "# H0(null hypothesis): data_1 comes from a normal distribution\n",
        "# H1(alternative hypothesis): data_1 doesn't comes from a normal distribution\n",
        "\n",
        "alpha = 0.001 #significance level\n",
        "stat, p_value = stats.normaltest(data_1)\n",
        "\n",
        "if p_value < alpha:\n",
        "  print(\"The null hypothesis can be rejected, data_1 comes from a normal distribution\")\n",
        "else:\n",
        "  print(\"The null hypothesis cannot be rejected, data_1 doesn't come from a normal distribution\")"
      ],
      "execution_count": null,
      "outputs": [
        {
          "output_type": "stream",
          "text": [
            "The median of my random generated normal distribution is 1.6381928128799252\n",
            "The mean of my random generated normal distribution is 1.6799599842220845\n"
          ],
          "name": "stdout"
        },
        {
          "output_type": "display_data",
          "data": {
            "image/png": "[encoded data removed]",
            "text/plain": [
              "<Figure size 432x288 with 1 Axes>"
            ]
          },
          "metadata": {
            "tags": [],
            "needs_background": "light"
          }
        },
        {
          "output_type": "stream",
          "text": [
            "The null hypothesis cannot be rejected, data_1 doesn't come from a normal distribution\n"
          ],
          "name": "stdout"
        }
      ]
    },
    {
      "cell_type": "code",
      "metadata": {
        "id": "WEcN-r-K9maA",
        "colab": {
          "base_uri": "https://localhost:8080/",
          "height": 1000
        },
        "outputId": "b716e4d4-7141-4fbc-d2c1-3301e12afc97"
      },
      "source": [
        "# calculating the covariance between both array\n",
        "display(data_1)\n",
        "display(data_2)\n",
        "\n",
        "print('\\n')\n",
        "np.cov(data_1,data_2)\n",
        "\n",
        "#np.cov returns a matrix of covariances, how do I interpret this?\n",
        "                                    \n",
        "#[ cov data_ 1 with data_1 == variance data_1            ,        cov data_1 with data_2]\n",
        "#[cov data_2 with data_1          ,            cov data_2 with data_2 == variance data_2]\n"
      ],
      "execution_count": null,
      "outputs": [
        {
          "output_type": "display_data",
          "data": {
            "text/plain": [
              "array([ 0.74406904,  2.71175316,  3.82890145,  3.82952986,  2.86805781,\n",
              "       -0.68889317,  2.79788429,  4.10161877,  1.19338722,  3.66514739,\n",
              "        0.78862109,  1.04557673,  1.16337271,  1.55746045,  3.24583806,\n",
              "       -2.71606614,  1.99504222,  1.78025123,  0.33109415,  1.40625352,\n",
              "        1.62695646, -1.09557462, -1.55091488,  1.3316895 ,  1.07982058,\n",
              "        1.26049677,  2.88887352,  2.38542682,  3.1928997 , -0.30914249,\n",
              "        3.6303591 , -0.13070537,  3.36526626,  0.67397961,  3.56321235,\n",
              "        3.91036116,  3.33587281,  1.06269018, -1.3593392 , -0.05748148,\n",
              "       -0.26577214,  2.62618223, -0.97809724,  3.09066755,  4.37618461,\n",
              "        1.20091723,  1.27475028, -3.16454489,  2.14169975,  2.25077509,\n",
              "        1.57811793,  3.12163978, -1.95203472,  0.8704679 ,  4.51687901,\n",
              "        3.12239003,  3.68328624,  2.2745889 ,  0.53651469,  3.30487947,\n",
              "        3.82652405,  2.01152414,  5.26303359,  0.29151284, -1.51843768,\n",
              "        0.04989935, -0.22773836,  1.77895459,  2.1196589 ,  1.8645511 ,\n",
              "        1.1211846 ,  0.40317271,  3.16841948, -0.08881648,  4.26714463,\n",
              "        0.85925792, -1.22315737,  2.95952769,  6.14852663,  2.08452097,\n",
              "        1.17308073,  0.18436601, -1.88837914, -0.26163762,  2.5404166 ,\n",
              "        4.9199763 ,  0.6886701 ,  3.35399802,  2.13999362,  3.81374543,\n",
              "        3.11667206,  1.92089075, -0.17186665,  2.33244882,  1.54242084,\n",
              "        0.55205882,  3.20828775, -0.21784101,  3.95718856,  1.12669851,\n",
              "       -0.75595927, -1.47832131,  1.10500498,  2.81870579, -1.23546443,\n",
              "       -0.51372595,  4.24181207,  4.4332875 ,  1.55642502,  1.46556546,\n",
              "        0.17498982,  4.68593177,  1.34894009, -0.67399756,  1.05949276,\n",
              "        3.76727774,  1.11860062,  0.79297972,  1.98099521,  2.97112948,\n",
              "        0.87205267,  0.69735056,  3.25720867,  2.69185986,  1.05538857,\n",
              "        1.6376169 ,  5.23294785,  1.02972455,  3.86296892,  2.68247333,\n",
              "        3.23189682,  3.0078024 ,  0.82496268,  2.14564491,  0.76648313,\n",
              "        1.28573117, -0.79192555,  1.6940208 ,  3.7671018 ,  1.63876873,\n",
              "        1.13032324,  0.6461462 ,  3.06552434, -1.84810163,  2.31343117,\n",
              "        4.61084186,  1.83323825,  1.56025289,  1.48351352,  0.26928199,\n",
              "        1.96245656,  1.67683132, -3.60973156,  2.6928956 ,  2.49479644,\n",
              "        6.52957843,  2.50317603, -2.39526476, -0.88703118,  2.58447968,\n",
              "        3.6918727 ,  0.29180487,  0.21012769, -3.05215115,  1.11677568,\n",
              "        2.567285  ,  1.30648247,  1.5459491 ,  1.96430036, -0.45264038,\n",
              "        3.25230663,  1.93976189,  0.7880664 ,  4.116219  , -1.19014619,\n",
              "       -0.20616853,  1.85015685,  5.26897289,  4.44870892,  4.37511023,\n",
              "        3.88964657,  3.05980005,  4.17066928,  1.11939838, -0.78428936,\n",
              "        0.80917244,  1.15955109, -1.24654421, -2.46432777,  2.12898587,\n",
              "        1.64507042,  2.65231876,  3.87873719,  0.99835043,  3.99174215,\n",
              "        5.95188472,  0.37622918,  2.31392767,  2.16601663,  1.01888612])"
            ]
          },
          "metadata": {
            "tags": []
          }
        },
        {
          "output_type": "display_data",
          "data": {
            "text/plain": [
              "array([ 0.95962477,  0.42782058, -0.83687055,  1.73658004, -1.76674829,\n",
              "        5.00396247,  0.59777721,  0.84393064,  4.91769285,  2.18248184,\n",
              "        3.71648404,  1.57110543,  2.74397569,  0.08893776,  4.17235133,\n",
              "        3.09237359,  0.74729667,  1.31941093, -0.0665805 ,  2.11960618,\n",
              "        7.06499185, -0.61741451,  1.71222244, -0.52761638, -1.62826007,\n",
              "        0.44280973, -0.59360057,  4.74945372,  1.33360398,  3.85093185,\n",
              "        2.29566292, -2.00637776, -2.49675497,  3.41662379,  3.46442738,\n",
              "        2.41130789,  3.68841914,  2.34982404,  4.78491755, -1.80311123,\n",
              "       -1.10374821,  0.19688501,  1.85324189,  3.14149967, -0.21608025,\n",
              "        3.2214051 ,  2.33543912,  3.57786508, -2.19973974,  5.75503573,\n",
              "        0.51877713,  1.75307264,  2.17400585,  1.72509116, -1.54225854,\n",
              "        2.52117577,  0.58026985,  3.20399859,  3.58125014,  1.61172763,\n",
              "       -0.72520807,  3.69114555, -0.63073893,  6.17834574, -1.26344527,\n",
              "        2.94051995,  4.86122722,  3.36226612,  3.67980606,  0.77550622,\n",
              "        0.37444627,  1.64430502, -0.4036833 ,  1.35442288,  1.93469005,\n",
              "        4.02967074, -0.18949061,  1.68403657,  5.23202662, -1.62305165,\n",
              "       -0.09601889, -1.29091247,  2.13450536,  4.74533799,  3.12538885,\n",
              "        1.36518363, -1.54248939,  1.18697295,  0.62947097,  5.07055258,\n",
              "        2.86975953,  2.07541754,  0.19046019,  2.79018656,  3.75632038,\n",
              "       -1.13141673, -0.74384676,  3.42328682, -0.49446764,  3.6941804 ,\n",
              "        1.0034095 ,  1.85184256,  0.33828576, -2.71997378, -0.1782319 ,\n",
              "        1.64452231,  2.22507113,  1.72133482,  0.56110091, -0.8325792 ,\n",
              "        4.55659371,  1.78539775,  3.69823009,  1.52269596,  3.57289796,\n",
              "        2.77018229,  2.88304176,  2.85078378,  1.88431504,  3.26773836,\n",
              "        2.40155739,  5.06733716,  0.94249692,  2.446256  ,  1.38213556,\n",
              "        2.71915103, -0.66138988,  0.16986108,  0.93429952,  0.74059639,\n",
              "        0.48137947, -2.11318662,  1.77176778,  3.27025193,  1.42557397,\n",
              "        2.94512426,  3.88285778, -2.23954433, -1.81558938, -0.85343619,\n",
              "        2.85214111,  0.37578659,  1.71848668,  4.19490215, -0.19504016,\n",
              "       -0.81442876,  4.46098026,  1.20672615,  4.50072436, -2.53290904,\n",
              "       -2.08530001, -1.54487474,  2.17916347,  0.61654588,  0.35858415,\n",
              "        3.29031739, -0.16019014,  1.65340338,  0.8800979 ,  1.46648025,\n",
              "        4.69468928, -0.03453871,  3.1962677 ,  6.68292527,  0.20358592,\n",
              "       -1.66808815,  0.20510105,  2.79602033,  2.6645777 ,  5.47817082,\n",
              "        0.5707173 ,  2.63835349, -3.94948946, -0.03974242, -0.04955292,\n",
              "        1.8498439 ,  3.00445291,  2.89946404, -2.86738685,  5.64226305,\n",
              "        4.5460818 ,  3.64065461,  2.18114346,  5.09297131,  0.46707618,\n",
              "        5.14712167,  0.78714627,  3.82483652,  2.20616013,  4.45199379,\n",
              "        2.23815629,  2.07155871, -1.02282064,  5.10721874,  0.8469597 ,\n",
              "       -0.30178699, -1.18762515,  1.7966792 , -0.00931815, -1.80224339])"
            ]
          },
          "metadata": {
            "tags": []
          }
        },
        {
          "output_type": "stream",
          "text": [
            "\n",
            "\n"
          ],
          "name": "stdout"
        },
        {
          "output_type": "execute_result",
          "data": {
            "text/plain": [
              "array([[ 3.59059835, -0.54437466],\n",
              "       [-0.54437466,  4.67558269]])"
            ]
          },
          "metadata": {
            "tags": []
          },
          "execution_count": 94
        }
      ]
    },
    {
      "cell_type": "code",
      "metadata": {
        "id": "QotzH8zTOGMR",
        "colab": {
          "base_uri": "https://localhost:8080/",
          "height": 265
        },
        "outputId": "a023f06f-42c4-4883-a569-a61a3be0c0b7"
      },
      "source": [
        "plt.scatter(data_1,data_2)\n",
        "plt.show()"
      ],
      "execution_count": null,
      "outputs": [
        {
          "output_type": "display_data",
          "data": {
            "image/png": "[encoded data removed]",
            "text/plain": [
              "<Figure size 432x288 with 1 Axes>"
            ]
          },
          "metadata": {
            "tags": [],
            "needs_background": "light"
          }
        }
      ]
    },
    {
      "cell_type": "code",
      "metadata": {
        "id": "_t42iL58NBN0",
        "colab": {
          "base_uri": "https://localhost:8080/"
        },
        "outputId": "2ea1b28f-fab1-4983-963c-b7dcbbd4aede"
      },
      "source": [
        "#If i force data_3 to be correlated to data_1 by centering each datapoint from the corresponding one in data_1\n",
        "data_3 = data_1 + np.random.normal(loc = 0, scale = 2, size = 200)\n",
        "\n",
        "np.cov(data_1,data_3)"
      ],
      "execution_count": null,
      "outputs": [
        {
          "output_type": "execute_result",
          "data": {
            "text/plain": [
              "array([[3.35706394, 3.44291637],\n",
              "       [3.44291637, 7.77460169]])"
            ]
          },
          "metadata": {
            "tags": []
          },
          "execution_count": 16
        }
      ]
    },
    {
      "cell_type": "code",
      "metadata": {
        "id": "yYsrg2uQOMlg",
        "colab": {
          "base_uri": "https://localhost:8080/",
          "height": 266
        },
        "outputId": "bdd1bef7-f5ed-48d6-d71b-da4c5f399292"
      },
      "source": [
        "plt.scatter(data_1,data_3)\n",
        "plt.show()"
      ],
      "execution_count": null,
      "outputs": [
        {
          "output_type": "display_data",
          "data": {
            "image/png": "[encoded data removed]",
            "text/plain": [
              "<Figure size 432x288 with 1 Axes>"
            ]
          },
          "metadata": {
            "tags": [],
            "needs_background": "light"
          }
        }
      ]
    },
    {
      "cell_type": "code",
      "metadata": {
        "id": "pLbozI6XNBQ5",
        "colab": {
          "base_uri": "https://localhost:8080/",
          "height": 265
        },
        "outputId": "26752a78-aabc-4c7f-cdf8-afff6fd5a618"
      },
      "source": [
        "plt.scatter(data_1,data_1)\n",
        "plt.show()"
      ],
      "execution_count": null,
      "outputs": [
        {
          "output_type": "display_data",
          "data": {
            "image/png": "[encoded data removed]",
            "text/plain": [
              "<Figure size 432x288 with 1 Axes>"
            ]
          },
          "metadata": {
            "tags": [],
            "needs_background": "light"
          }
        }
      ]
    },
    {
      "cell_type": "code",
      "metadata": {
        "id": "HcnXwXVfAc0N",
        "colab": {
          "base_uri": "https://localhost:8080/"
        },
        "outputId": "45504e03-bd65-4300-f2e5-6ae63f3cdf4a"
      },
      "source": [
        "# let's calculate the correlation using numpy\n",
        "# this command returns pearson correlation only\n",
        "np.corrcoef(data_1,data_2)\n",
        "\n",
        "# [ corr data_1 with itself   ,   corr data_1 with data_2]\n",
        "# [ corr data_2 with data_1   ,   corr data_2 with itself]"
      ],
      "execution_count": null,
      "outputs": [
        {
          "output_type": "execute_result",
          "data": {
            "text/plain": [
              "array([[ 1.        , -0.00909674],\n",
              "       [-0.00909674,  1.        ]])"
            ]
          },
          "metadata": {
            "tags": []
          },
          "execution_count": 19
        }
      ]
    },
    {
      "cell_type": "code",
      "metadata": {
        "id": "na_fDAfjOeNo",
        "colab": {
          "base_uri": "https://localhost:8080/"
        },
        "outputId": "063ea6e9-2601-4128-8a9f-efaf0bd7ecdd"
      },
      "source": [
        "np.corrcoef(data_1,data_3)"
      ],
      "execution_count": null,
      "outputs": [
        {
          "output_type": "execute_result",
          "data": {
            "text/plain": [
              "array([[1.        , 0.67391883],\n",
              "       [0.67391883, 1.        ]])"
            ]
          },
          "metadata": {
            "tags": []
          },
          "execution_count": 20
        }
      ]
    },
    {
      "cell_type": "markdown",
      "metadata": {
        "id": "TUn23mDDgyLP"
      },
      "source": [
        "#Correlation (Restar of what is important)"
      ]
    },
    {
      "cell_type": "code",
      "metadata": {
        "colab": {
          "base_uri": "https://localhost:8080/",
          "height": 204
        },
        "id": "fp4SWJfSrh9a",
        "outputId": "f23e97b3-3448-4614-d9b0-9f35319c9950"
      },
      "source": [
        "data = pd.DataFrame({'Grade': {0: 13,1: 13,2: 8,3: 14,4: 20,5: 20,6: 13,7: 17,8: 8,9: 1,10: 9,11: 16,12: 15,13: 19,14: 0,15: 16,16: 14,17: 19,18: 1},\n",
        "              'Minutes_spent': {0: 233,1: 228,2: 231,3: 229,4: 233,5: 233,6: 225,7: 228,8: 234,9: 12,10: 231,11: 235,12: 239,13: 234,14: 6,15: 233,16: 227,17: 236,18: 18}})\n",
        "data.head()"
      ],
      "execution_count": null,
      "outputs": [
        {
          "output_type": "execute_result",
          "data": {
            "text/html": [
              "<div>\n",
              "<style scoped>\n",
              "    .dataframe tbody tr th:only-of-type {\n",
              "        vertical-align: middle;\n",
              "    }\n",
              "\n",
              "    .dataframe tbody tr th {\n",
              "        vertical-align: top;\n",
              "    }\n",
              "\n",
              "    .dataframe thead th {\n",
              "        text-align: right;\n",
              "    }\n",
              "</style>\n",
              "<table border=\"1\" class=\"dataframe\">\n",
              "  <thead>\n",
              "    <tr style=\"text-align: right;\">\n",
              "      <th></th>\n",
              "      <th>Grade</th>\n",
              "      <th>Minutes_spent</th>\n",
              "    </tr>\n",
              "  </thead>\n",
              "  <tbody>\n",
              "    <tr>\n",
              "      <th>0</th>\n",
              "      <td>13</td>\n",
              "      <td>233</td>\n",
              "    </tr>\n",
              "    <tr>\n",
              "      <th>1</th>\n",
              "      <td>13</td>\n",
              "      <td>228</td>\n",
              "    </tr>\n",
              "    <tr>\n",
              "      <th>2</th>\n",
              "      <td>8</td>\n",
              "      <td>231</td>\n",
              "    </tr>\n",
              "    <tr>\n",
              "      <th>3</th>\n",
              "      <td>14</td>\n",
              "      <td>229</td>\n",
              "    </tr>\n",
              "    <tr>\n",
              "      <th>4</th>\n",
              "      <td>20</td>\n",
              "      <td>233</td>\n",
              "    </tr>\n",
              "  </tbody>\n",
              "</table>\n",
              "</div>"
            ],
            "text/plain": [
              "   Grade  Minutes_spent\n",
              "0     13            233\n",
              "1     13            228\n",
              "2      8            231\n",
              "3     14            229\n",
              "4     20            233"
            ]
          },
          "metadata": {
            "tags": []
          },
          "execution_count": 4
        }
      ]
    },
    {
      "cell_type": "code",
      "metadata": {
        "colab": {
          "base_uri": "https://localhost:8080/",
          "height": 1000
        },
        "id": "I6cqkKYO4w9s",
        "outputId": "9b0f51dc-e370-454b-ca72-fb753aff7baf"
      },
      "source": [
        "# Linear relationship(Pearson) - magnitud of the values vs monothonic relationship (Spearman) - order of indexes\n",
        "display(data['Minutes_spent'])\n",
        "display(data['Grade'])\n",
        "\n",
        "print('\\n\\n')\n",
        "#monothonic relationship (Spearman)\n",
        "display(data['Minutes_spent'].sort_values())\n",
        "display(data['Grade'].sort_values())"
      ],
      "execution_count": null,
      "outputs": [
        {
          "output_type": "display_data",
          "data": {
            "text/plain": [
              "0     233\n",
              "1     228\n",
              "2     231\n",
              "3     229\n",
              "4     233\n",
              "5     233\n",
              "6     225\n",
              "7     228\n",
              "8     234\n",
              "9      12\n",
              "10    231\n",
              "11    235\n",
              "12    239\n",
              "13    234\n",
              "14      6\n",
              "15    233\n",
              "16    227\n",
              "17    236\n",
              "18     18\n",
              "Name: Minutes_spent, dtype: int64"
            ]
          },
          "metadata": {
            "tags": []
          }
        },
        {
          "output_type": "display_data",
          "data": {
            "text/plain": [
              "0     13\n",
              "1     13\n",
              "2      8\n",
              "3     14\n",
              "4     20\n",
              "5     20\n",
              "6     13\n",
              "7     17\n",
              "8      8\n",
              "9      1\n",
              "10     9\n",
              "11    16\n",
              "12    15\n",
              "13    19\n",
              "14     0\n",
              "15    16\n",
              "16    14\n",
              "17    19\n",
              "18     1\n",
              "Name: Grade, dtype: int64"
            ]
          },
          "metadata": {
            "tags": []
          }
        },
        {
          "output_type": "stream",
          "text": [
            "\n",
            "\n",
            "\n"
          ],
          "name": "stdout"
        },
        {
          "output_type": "display_data",
          "data": {
            "text/plain": [
              "14      6\n",
              "9      12\n",
              "18     18\n",
              "6     225\n",
              "16    227\n",
              "7     228\n",
              "1     228\n",
              "3     229\n",
              "10    231\n",
              "2     231\n",
              "4     233\n",
              "5     233\n",
              "15    233\n",
              "0     233\n",
              "8     234\n",
              "13    234\n",
              "11    235\n",
              "17    236\n",
              "12    239\n",
              "Name: Minutes_spent, dtype: int64"
            ]
          },
          "metadata": {
            "tags": []
          }
        },
        {
          "output_type": "display_data",
          "data": {
            "text/plain": [
              "14     0\n",
              "9      1\n",
              "18     1\n",
              "8      8\n",
              "2      8\n",
              "10     9\n",
              "6     13\n",
              "1     13\n",
              "0     13\n",
              "3     14\n",
              "16    14\n",
              "12    15\n",
              "11    16\n",
              "15    16\n",
              "7     17\n",
              "17    19\n",
              "13    19\n",
              "4     20\n",
              "5     20\n",
              "Name: Grade, dtype: int64"
            ]
          },
          "metadata": {
            "tags": []
          }
        }
      ]
    },
    {
      "cell_type": "code",
      "metadata": {
        "id": "lM_RKJNGBMy3",
        "colab": {
          "base_uri": "https://localhost:8080/",
          "height": 404
        },
        "outputId": "0bf915fb-8db7-4da9-e0d5-7757a89bb25b"
      },
      "source": [
        "from scipy import stats\n",
        "# spearman correlation example -> good correlations\n",
        "x = np.arange(0,10,1)\n",
        "\n",
        "# try running the cells below with these combinations\n",
        "#y = np.square(x) + np.random.normal(loc = 0, scale = 5, size = 10)\n",
        "y = np.exp(x) + np.random.normal(loc = 0, scale = 5, size = 10)\n",
        "\n",
        "\n",
        "# spearman correlation example -> bad correlations\n",
        "#x = np.arange(-10,10,1)\n",
        "\n",
        "# try running the cells below with these combinations\n",
        "#y = np.square(x) + np.random.normal(loc = 0, scale = 5, size = 20)\n",
        "#y = np.exp(x) + np.random.normal(loc = 0, scale = 5, size = 20)\n",
        "\n",
        "\n",
        "print(x)\n",
        "print(y)\n",
        "# pearson \n",
        "print(\"Pearson correlation: \",stats.pearsonr(x,y)[0])\n",
        "# spearman\n",
        "print(\"Spearman correlation: \", stats.spearmanr(x,y))\n",
        "# kendall tau\n",
        "print(\"kendall tau correlation: \", stats.kendalltau(x,y))\n",
        "plt.scatter(x,y)\n",
        "plt.show()"
      ],
      "execution_count": null,
      "outputs": [
        {
          "output_type": "stream",
          "name": "stdout",
          "text": [
            "[0 1 2 3 4 5 6 7 8 9]\n",
            "[1.88237906e+00 5.46619868e+00 1.01291644e+01 3.02082542e+01\n",
            " 5.51582423e+01 1.51032052e+02 4.07648738e+02 1.08579097e+03\n",
            " 2.97979987e+03 8.09726328e+03]\n",
            "Pearson correlation:  0.7164651473550108\n",
            "Spearman correlation:  SpearmanrResult(correlation=0.9999999999999999, pvalue=6.646897422032013e-64)\n",
            "kendall tau correlation:  KendalltauResult(correlation=0.9999999999999999, pvalue=5.511463844797178e-07)\n"
          ]
        },
        {
          "output_type": "display_data",
          "data": {
            "image/png": "[encoded data removed]",
            "text/plain": [
              "<Figure size 432x288 with 1 Axes>"
            ]
          },
          "metadata": {
            "needs_background": "light"
          }
        }
      ]
    },
    {
      "cell_type": "code",
      "metadata": {
        "id": "H0sz0pRofU1p"
      },
      "source": [
        ""
      ],
      "execution_count": null,
      "outputs": []
    }
  ]
}